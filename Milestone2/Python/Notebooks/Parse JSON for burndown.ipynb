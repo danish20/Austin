{
 "cells": [
  {
   "cell_type": "code",
   "execution_count": 33,
   "metadata": {
    "collapsed": true
   },
   "outputs": [],
   "source": [
    "import json\n",
    "import pandas as pd\n",
    "import numpy as np\n",
    "import plotly.plotly as py\n",
    "import plotly.graph_objs as go\n",
    "import plotly\n",
    "import json\n",
    "from pprint import pprint\n",
    "import os"
   ]
  },
  {
   "cell_type": "code",
   "execution_count": 23,
   "metadata": {
    "collapsed": true
   },
   "outputs": [],
   "source": [
    "def parse_json_for_burndown(query_id):\n",
    "    current_path = os.path.dirname(os.path.realpath(\"__file__\"))\n",
    "    file = open(os.path.join(current_path,'../../Austin_Mock/mockData.json'), 'r')\n",
    "    mock = json.load(file)\n",
    "    sprints = mock[\"sprint\"]\n",
    "    for sprint in sprints:\n",
    "        if sprint[\"id\"]==query_id:\n",
    "            current_sprint = sprint\n",
    "    total_hours = 0\n",
    "    for story in current_sprint[\"stories\"]:\n",
    "        total_hours += story[\"story_hours\"]\n",
    "    #print(current_sprint)\n",
    "    work_done_on = dict()\n",
    "    for story in current_sprint[\"stories\"]:\n",
    "        for task in story[\"task\"]:\n",
    "            for work in task[\"daily_progress\"]:\n",
    "                try:\n",
    "                    work_done_on[work[\"date\"]] += work[\"work_done\"]\n",
    "                except:\n",
    "                    work_done_on[work[\"date\"]] = work[\"work_done\"]\n",
    "    #print(work_done_on)\n",
    "    #print(total_hours)\n",
    "    #print(current_sprint)\n",
    "\n",
    "    x = list(work_done_on.keys())\n",
    "    y = []\n",
    "    hours_left = total_hours\n",
    "    for date in work_done_on:\n",
    "        hours_left -= work_done_on[date]\n",
    "        y.append(hours_left)\n",
    "    print(x)\n",
    "    print(y)\n",
    "    return [x,y]"
   ]
  },
  {
   "cell_type": "code",
   "execution_count": 31,
   "metadata": {
    "collapsed": true
   },
   "outputs": [],
   "source": [
    "def plot_burndown(x, y):\n",
    "    plotly.tools.set_credentials_file(username='udeshmu', api_key='qIyD3uwDHJdtNvjSsFyS')\n",
    "    trace1 = go.Scatter(\n",
    "        x = x,\n",
    "        y = y,\n",
    "        name = '<b>No</b> Gaps', # Style name/legend entry with html tags\n",
    "        connectgaps=True\n",
    "    )\n",
    "    data = [trace1]\n",
    "    fig = dict(data=data)\n",
    "    py.image.save_as(fig, filename=os.path.join(current_path,'../Plots/burndown_performance.png'))\n",
    "    return fig"
   ]
  },
  {
   "cell_type": "code",
   "execution_count": 29,
   "metadata": {},
   "outputs": [
    {
     "name": "stdout",
     "output_type": "stream",
     "text": [
      "['07/03/2017', '07/04/2017', '07/05/2017', '07/06/2017', '07/07/2017', '07/10/2017', '07/11/2017', '07/12/2017', '07/13/2017', '07/14/2017', '07/17/2017', '07/18/2017', '07/19/2017', '07/20/2017', '07/21/2017']\n",
      "[448, 416, 384, 352, 320, 288, 256, 224, 192, 160, 128, 96, 64, 32, 0]\n"
     ]
    }
   ],
   "source": [
    "[x,y] = parse_json_for_burndown(20)\n",
    "fig=plot_burndown(x,y)"
   ]
  },
  {
   "cell_type": "code",
   "execution_count": 32,
   "metadata": {},
   "outputs": [],
   "source": [
    "py.iplot(fig, filename = 'burndown')"
   ]
  }
 ],
 "metadata": {
  "kernelspec": {
   "display_name": "Python 3",
   "language": "python",
   "name": "python3"
  },
  "language_info": {
   "codemirror_mode": {
    "name": "ipython",
    "version": 3
   },
   "file_extension": ".py",
   "mimetype": "text/x-python",
   "name": "python",
   "nbconvert_exporter": "python",
   "pygments_lexer": "ipython3",
   "version": "3.6.2"
  }
 },
 "nbformat": 4,
 "nbformat_minor": 2
}
