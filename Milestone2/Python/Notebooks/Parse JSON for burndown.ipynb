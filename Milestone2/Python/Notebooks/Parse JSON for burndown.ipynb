{
 "cells": [
  {
   "cell_type": "code",
   "execution_count": 35,
   "metadata": {
    "collapsed": true
   },
   "outputs": [],
   "source": [
    "import json\n",
    "import pandas as pd\n",
    "import numpy as np\n",
    "import plotly.plotly as py\n",
    "import plotly.graph_objs as go\n",
    "import plotly\n",
    "import json\n",
    "from pprint import pprint\n",
    "import os"
   ]
  },
  {
   "cell_type": "code",
   "execution_count": 50,
   "metadata": {
    "collapsed": true
   },
   "outputs": [],
   "source": [
    "def parse_json_for_burndown(query_id):\n",
    "    current_path = os.path.dirname(os.path.realpath(\"__file__\"))\n",
    "    file = open(os.path.join(current_path,'../../../AustinBot/mockData.json'), 'r')\n",
    "    mock = json.load(file)\n",
    "    sprints = mock[\"sprint\"]\n",
    "    for sprint in sprints:\n",
    "        if sprint[\"id\"]==query_id:\n",
    "            current_sprint = sprint\n",
    "    total_hours = 0\n",
    "    for story in current_sprint[\"stories\"]:\n",
    "        total_hours += story[\"story_hours\"]\n",
    "    #print(current_sprint)\n",
    "    work_done_on = dict()\n",
    "    for story in current_sprint[\"stories\"]:\n",
    "        for task in story[\"task\"]:\n",
    "            for work in task[\"daily_progress\"]:\n",
    "                try:\n",
    "                    work_done_on[work[\"date\"]] += work[\"work_done\"]\n",
    "                except:\n",
    "                    work_done_on[work[\"date\"]] = work[\"work_done\"]\n",
    "    #print(work_done_on)\n",
    "    #print(total_hours)\n",
    "    #print(current_sprint)\n",
    "\n",
    "    x = list(work_done_on.keys())\n",
    "    y = []\n",
    "    hours_left = total_hours\n",
    "    for date in work_done_on:\n",
    "        hours_left -= work_done_on[date]\n",
    "        y.append(hours_left)\n",
    "    print(x)\n",
    "    print(y)\n",
    "    each_day = total_hours/len(x)\n",
    "    hours_left = total_hours\n",
    "    y_ideal = []\n",
    "    for i in x:\n",
    "        hours_left -= each_day\n",
    "        y_ideal.append(hours_left)\n",
    "    return [x,y, y_ideal]"
   ]
  },
  {
   "cell_type": "code",
   "execution_count": 51,
   "metadata": {},
   "outputs": [],
   "source": [
    "def plot_burndown(x, y, y_ideal):\n",
    "    plotly.tools.set_credentials_file(username='udeshmu', api_key='qIyD3uwDHJdtNvjSsFyS')\n",
    "    trace1 = go.Scatter(\n",
    "        x = x,\n",
    "        y = y,\n",
    "        name = '<b>Burndown</b>', # Style name/legend entry with html tags\n",
    "        connectgaps=True\n",
    "    )\n",
    "    trace2 = go.Scatter(\n",
    "        x = x,\n",
    "        y = y_ideal,\n",
    "        name = '<b>Ideal</b>', # Style name/legend entry with html tags\n",
    "        connectgaps=True,\n",
    "        line = dict(color = ('rgb(205, 12, 24)'),width = 4)\n",
    "    )\n",
    "    data = [trace1, trace2]\n",
    "    fig = dict(data=data)\n",
    "    #py.image.save_as(fig, filename=os.path.join(current_path,'../Plots/burndown_performance.png'))\n",
    "    return fig"
   ]
  },
  {
   "cell_type": "code",
   "execution_count": 53,
   "metadata": {},
   "outputs": [
    {
     "name": "stdout",
     "output_type": "stream",
     "text": [
      "['07/24/2017', '07/25/2017', '07/26/2017', '07/27/2017', '07/28/2017', '07/31/2017', '08/1/2017', '08/2/2017', '08/3/2017', '08/4/2017', '08/7/2017', '08/8/2017', '08/9/2017', '08/10/2017', '08/11/2017']\n",
      "[455, 431, 407, 385, 360, 335, 308, 277, 250, 223, 195, 166, 139, 115, 91]\n"
     ]
    }
   ],
   "source": [
    "[x,y,y_ideal] = parse_json_for_burndown(\"21\")\n",
    "fig=plot_burndown(x,y,y_ideal)"
   ]
  },
  {
   "cell_type": "code",
   "execution_count": 54,
   "metadata": {},
   "outputs": [
    {
     "data": {
      "text/html": [
       "<iframe id=\"igraph\" scrolling=\"no\" style=\"border:none;\" seamless=\"seamless\" src=\"https://plot.ly/~udeshmu/8.embed\" height=\"525px\" width=\"100%\"></iframe>"
      ],
      "text/plain": [
       "<plotly.tools.PlotlyDisplay object>"
      ]
     },
     "execution_count": 54,
     "metadata": {},
     "output_type": "execute_result"
    }
   ],
   "source": [
    "py.iplot(fig, filename = 'burndown')"
   ]
  }
 ],
 "metadata": {
  "kernelspec": {
   "display_name": "Python 3",
   "language": "python",
   "name": "python3"
  },
  "language_info": {
   "codemirror_mode": {
    "name": "ipython",
    "version": 3
   },
   "file_extension": ".py",
   "mimetype": "text/x-python",
   "name": "python",
   "nbconvert_exporter": "python",
   "pygments_lexer": "ipython3",
   "version": "3.6.2"
  }
 },
 "nbformat": 4,
 "nbformat_minor": 2
}
