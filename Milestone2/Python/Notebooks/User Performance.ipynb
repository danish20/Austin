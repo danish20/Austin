{
 "cells": [
  {
   "cell_type": "code",
   "execution_count": 34,
   "metadata": {
    "collapsed": true
   },
   "outputs": [],
   "source": [
    "import json\n",
    "import pandas as pd\n",
    "import numpy as np\n",
    "import plotly.plotly as py\n",
    "import plotly.graph_objs as go\n",
    "import plotly\n",
    "import json\n",
    "from pprint import pprint"
   ]
  },
  {
   "cell_type": "code",
   "execution_count": 35,
   "metadata": {
    "collapsed": true
   },
   "outputs": [],
   "source": [
    "plotly.tools.set_credentials_file(username='udeshmu', api_key='qIyD3uwDHJdtNvjSsFyS')"
   ]
  },
  {
   "cell_type": "code",
   "execution_count": 36,
   "metadata": {
    "collapsed": true
   },
   "outputs": [],
   "source": [
    "import os\n",
    "current_path = os.path.dirname(os.path.realpath(\"__file__\"))"
   ]
  },
  {
   "cell_type": "code",
   "execution_count": 37,
   "metadata": {
    "collapsed": true
   },
   "outputs": [],
   "source": [
    "userPerf = {}\n",
    "with open(os.path.join(current_path,'../../Austin_Mock/mockData.json')) as data_file:\n",
    "    data = json.load(data_file)\n",
    "for story in data[\"sprint\"][0][\"stories\"]:\n",
    "    for task in story[\"task\"]:\n",
    "        if task[\"user_id\"] == 103:\n",
    "            if task[\"task_id\"] not in userPerf:\n",
    "                sum = 0\n",
    "                for i in task[\"daily_progress\"]: sum = sum + i[\"work_done\"]\n",
    "                userPerf[task[\"task_id\"]] = sum\n",
    "\n",
    "trace1 = go.Bar(\n",
    "    x=list(userPerf.keys()),\n",
    "    y=list(userPerf.values()),\n",
    "    name = '<b>No</b> Gaps' # Style name/legend entry with html tags\n",
    ")"
   ]
  },
  {
   "cell_type": "code",
   "execution_count": 38,
   "metadata": {
    "collapsed": true
   },
   "outputs": [],
   "source": [
    "data=[trace1]"
   ]
  },
  {
   "cell_type": "code",
   "execution_count": 39,
   "metadata": {},
   "outputs": [],
   "source": [
    "fig = dict(data=data)\n",
    "#plotly.offline.plot(fig, filename='simple-connectgaps', image='png')"
   ]
  },
  {
   "cell_type": "code",
   "execution_count": 40,
   "metadata": {
    "collapsed": true
   },
   "outputs": [],
   "source": [
    "py.image.save_as(fig, filename=os.path.join(current_path,'../Plots/user_performance.png'))"
   ]
  },
  {
   "cell_type": "code",
   "execution_count": null,
   "metadata": {
    "collapsed": true
   },
   "outputs": [],
   "source": []
  }
 ],
 "metadata": {
  "kernelspec": {
   "display_name": "Python 3",
   "language": "python",
   "name": "python3"
  },
  "language_info": {
   "codemirror_mode": {
    "name": "ipython",
    "version": 3
   },
   "file_extension": ".py",
   "mimetype": "text/x-python",
   "name": "python",
   "nbconvert_exporter": "python",
   "pygments_lexer": "ipython3",
   "version": "3.6.2"
  }
 },
 "nbformat": 4,
 "nbformat_minor": 2
}
