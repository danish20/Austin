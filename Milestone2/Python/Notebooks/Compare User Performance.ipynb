{
 "cells": [
  {
   "cell_type": "code",
   "execution_count": 58,
   "metadata": {},
   "outputs": [],
   "source": [
    "import json\n",
    "import pandas as pd\n",
    "import numpy as np\n",
    "import plotly.plotly as py\n",
    "import plotly.graph_objs as go\n",
    "import plotly\n",
    "import json\n",
    "from pprint import pprint\n",
    "import os\n",
    "import s3"
   ]
  },
  {
   "cell_type": "code",
   "execution_count": 2,
   "metadata": {
    "collapsed": true
   },
   "outputs": [],
   "source": [
    "current_path = os.path.dirname(os.path.realpath(\"__file__\"))\n",
    "file = open(os.path.join(current_path,'../../../AustinBot/mockData.json'), 'r')\n",
    "mock = json.load(file)"
   ]
  },
  {
   "cell_type": "code",
   "execution_count": 39,
   "metadata": {
    "collapsed": true
   },
   "outputs": [],
   "source": [
    "sprints = mock[\"sprint\"]\n",
    "query_id=\"20\""
   ]
  },
  {
   "cell_type": "code",
   "execution_count": 40,
   "metadata": {
    "collapsed": true
   },
   "outputs": [],
   "source": [
    "for sprint in sprints:\n",
    "    if sprint[\"id\"]==query_id:\n",
    "        current_sprint = sprint"
   ]
  },
  {
   "cell_type": "code",
   "execution_count": 41,
   "metadata": {},
   "outputs": [
    {
     "name": "stdout",
     "output_type": "stream",
     "text": [
      "{'id': '20', 'start_date': '07/03/2017', 'end_date': '07/23/2017', 'team_member': [{'user_id': 100, 'user_name': 'Udit', 'performance_chart_url': 'https://s3.us-east-2.amazonaws.com/austinbot/user_performance.png'}, {'user_id': 101, 'user_name': 'Dsuri', 'performance_chart_url': 'https://s3.us-east-2.amazonaws.com/austinbot/user_performance.png'}, {'user_id': 102, 'user_name': 'Prashant', 'performance_chart_url': 'https://s3.us-east-2.amazonaws.com/austinbot/user_performance.png'}, {'user_id': 103, 'user_name': 'Sandeep', 'performance_chart_url': 'https://s3.us-east-2.amazonaws.com/austinbot/user_performance.png'}], 'stories': [{'story_id': '20_1', 'story_name': '', 'story_hours': 240, 'task': [{'task_id': '20_1_1', 'excepted_hours': 50, 'user_id': 100, 'daily_progress': [{'date': '07/03/2017', 'work_done': 8}, {'date': '07/04/2017', 'work_done': 8}, {'date': '07/05/2017', 'work_done': 8}, {'date': '07/06/2017', 'work_done': 8}, {'date': '07/07/2017', 'work_done': 8}, {'date': '07/10/2017', 'work_done': 8}, {'date': '07/11/2017', 'work_done': 2}], 'status': 'Complete'}, {'task_id': '20_1_2', 'excepted_hours': 60, 'user_id': 102, 'daily_progress': [{'date': '07/03/2017', 'work_done': 8}, {'date': '07/04/2017', 'work_done': 8}, {'date': '07/05/2017', 'work_done': 8}, {'date': '07/06/2017', 'work_done': 8}, {'date': '07/07/2017', 'work_done': 8}, {'date': '07/10/2017', 'work_done': 8}, {'date': '07/11/2017', 'work_done': 8}, {'date': '07/12/2017', 'work_done': 4}], 'status': 'Complete'}, {'task_id': '20_1_3', 'excepted_hours': 70, 'user_id': 101, 'daily_progress': [{'date': '07/03/2017', 'work_done': 8}, {'date': '07/04/2017', 'work_done': 8}, {'date': '07/05/2017', 'work_done': 8}, {'date': '07/06/2017', 'work_done': 8}, {'date': '07/07/2017', 'work_done': 8}, {'date': '07/10/2017', 'work_done': 8}, {'date': '07/11/2017', 'work_done': 8}, {'date': '07/12/2017', 'work_done': 8}, {'date': '07/13/2017', 'work_done': 6}], 'status': 'Complete'}, {'task_id': '20_1_4', 'excepted_hours': 20, 'user_id': 103, 'daily_progress': [{'date': '07/03/2017', 'work_done': 8}, {'date': '07/04/2017', 'work_done': 8}, {'date': '07/05/2017', 'work_done': 4}], 'status': 'Complete'}, {'task_id': '20_1_5', 'excepted_hours': 40, 'user_id': 103, 'daily_progress': [{'date': '07/05/2017', 'work_done': 4}, {'date': '07/06/2017', 'work_done': 8}, {'date': '07/07/2017', 'work_done': 8}, {'date': '07/10/2017', 'work_done': 8}, {'date': '07/11/2017', 'work_done': 8}, {'date': '07/12/2017', 'work_done': 4}], 'status': 'Complete'}]}, {'story_id': '20_2', 'story_name': '', 'story_hours': 100, 'task': [{'task_id': '20_2_1', 'excepted_hours': 40, 'user_id': 100, 'daily_progress': [{'date': '07/11/2017', 'work_done': 6}, {'date': '07/12/2017', 'work_done': 8}, {'date': '07/13/2017', 'work_done': 8}, {'date': '07/14/2017', 'work_done': 8}, {'date': '07/17/2017', 'work_done': 8}, {'date': '07/18/2017', 'work_done': 2}], 'status': 'Complete'}, {'task_id': '20_2_2', 'excepted_hours': 40, 'user_id': 102, 'daily_progress': [{'date': '07/12/2017', 'work_done': 4}, {'date': '07/13/2017', 'work_done': 8}, {'date': '07/14/2017', 'work_done': 8}, {'date': '07/17/2017', 'work_done': 8}, {'date': '07/18/2017', 'work_done': 8}, {'date': '07/19/2017', 'work_done': 4}], 'status': 'Complete'}, {'task_id': '20_2_3', 'excepted_hours': 20, 'user_id': 101, 'daily_progress': [{'date': '07/13/2017', 'work_done': 2}, {'date': '07/14/2017', 'work_done': 8}, {'date': '07/17/2017', 'work_done': 8}, {'date': '07/18/2017', 'work_done': 2}], 'status': 'Complete'}]}, {'story_id': '20_3', 'story_name': '', 'story_hours': 140, 'task': [{'task_id': '20_3_1', 'excepted_hours': 30, 'user_id': 100, 'daily_progress': [{'date': '07/18/2017', 'work_done': 6}, {'date': '07/19/2017', 'work_done': 8}, {'date': '07/20/2017', 'work_done': 8}, {'date': '07/21/2017', 'work_done': 8}], 'status': 'Complete'}, {'task_id': '20_3_2', 'excepted_hours': 20, 'user_id': 102, 'daily_progress': [{'date': '07/19/2017', 'work_done': 4}, {'date': '07/20/2017', 'work_done': 8}, {'date': '07/21/2017', 'work_done': 8}], 'status': 'Complete'}, {'task_id': '20_3_3', 'excepted_hours': 20, 'user_id': 101, 'daily_progress': [{'date': '07/18/2017', 'work_done': 6}, {'date': '07/19/2017', 'work_done': 8}, {'date': '07/20/2017', 'work_done': 8}, {'date': '07/21/2017', 'work_done': 8}], 'status': 'Complete'}, {'task_id': '20_3_4', 'excepted_hours': 70, 'user_id': 103, 'daily_progress': [{'date': '07/12/2017', 'work_done': 4}, {'date': '07/13/2017', 'work_done': 8}, {'date': '07/14/2017', 'work_done': 8}, {'date': '07/17/2017', 'work_done': 8}, {'date': '07/18/2017', 'work_done': 8}, {'date': '07/19/2017', 'work_done': 8}, {'date': '07/20/2017', 'work_done': 8}, {'date': '07/21/2017', 'work_done': 8}], 'status': 'Active'}]}], 'burndown_img_url': 'https://s3.us-east-2.amazonaws.com/austinbot/plot_image.png'}\n"
     ]
    }
   ],
   "source": [
    "print(current_sprint)"
   ]
  },
  {
   "cell_type": "code",
   "execution_count": 47,
   "metadata": {
    "collapsed": true
   },
   "outputs": [],
   "source": [
    "expected = dict()\n",
    "actual_work_done = dict()"
   ]
  },
  {
   "cell_type": "code",
   "execution_count": 48,
   "metadata": {},
   "outputs": [],
   "source": [
    "for story in current_sprint[\"stories\"]:\n",
    "    for task in story[\"task\"]:\n",
    "        if task[\"status\"]==\"Complete\":\n",
    "            try:\n",
    "                expected[task[\"user_id\"]]+=task[\"excepted_hours\"]\n",
    "            except:\n",
    "                expected[task[\"user_id\"]]=task[\"excepted_hours\"]\n",
    "            for day in task[\"daily_progress\"]:\n",
    "                try:\n",
    "                    actual_work_done[task[\"user_id\"]]+=day[\"work_done\"]\n",
    "                except:\n",
    "                    actual_work_done[task[\"user_id\"]]=day[\"work_done\"]"
   ]
  },
  {
   "cell_type": "code",
   "execution_count": 50,
   "metadata": {},
   "outputs": [
    {
     "data": {
      "text/plain": [
       "{100: 120, 101: 110, 102: 120, 103: 60}"
      ]
     },
     "execution_count": 50,
     "metadata": {},
     "output_type": "execute_result"
    }
   ],
   "source": [
    "expected"
   ]
  },
  {
   "cell_type": "code",
   "execution_count": 51,
   "metadata": {},
   "outputs": [
    {
     "data": {
      "text/plain": [
       "{100: 120, 101: 120, 102: 120, 103: 60}"
      ]
     },
     "execution_count": 51,
     "metadata": {},
     "output_type": "execute_result"
    }
   ],
   "source": [
    "actual_work_done"
   ]
  },
  {
   "cell_type": "code",
   "execution_count": 52,
   "metadata": {
    "collapsed": true
   },
   "outputs": [],
   "source": [
    "x=list(y_expected.keys())\n",
    "y_expected=list(expected.values())\n",
    "y_actual_work_done=list(actual_work_done.values())"
   ]
  },
  {
   "cell_type": "code",
   "execution_count": 53,
   "metadata": {
    "collapsed": true
   },
   "outputs": [],
   "source": [
    "trace1 = go.Bar(\n",
    "    x=x,\n",
    "    y=y_expected,\n",
    "    name='Expected Hours'\n",
    ")\n",
    "trace2 = go.Bar(\n",
    "    x=x,\n",
    "    y=y_actual_work_done,\n",
    "    name='Actual hours'\n",
    ")\n",
    "\n",
    "data = [trace1, trace2]\n",
    "layout = go.Layout(\n",
    "    barmode='group'\n",
    ")\n",
    "\n",
    "fig = go.Figure(data=data, layout=layout)"
   ]
  },
  {
   "cell_type": "code",
   "execution_count": 54,
   "metadata": {},
   "outputs": [
    {
     "data": {
      "text/html": [
       "<iframe id=\"igraph\" scrolling=\"no\" style=\"border:none;\" seamless=\"seamless\" src=\"https://plot.ly/~udeshmu/14.embed\" height=\"525px\" width=\"100%\"></iframe>"
      ],
      "text/plain": [
       "<plotly.tools.PlotlyDisplay object>"
      ]
     },
     "execution_count": 54,
     "metadata": {},
     "output_type": "execute_result"
    }
   ],
   "source": [
    "py.iplot(fig, filename = 'compare_user_performance')"
   ]
  },
  {
   "cell_type": "code",
   "execution_count": 55,
   "metadata": {
    "collapsed": true
   },
   "outputs": [],
   "source": [
    "py.image.save_as(fig, filename=os.path.join(current_path,'../Plots/compare_user_performance.png'))"
   ]
  },
  {
   "cell_type": "code",
   "execution_count": 59,
   "metadata": {
    "collapsed": true
   },
   "outputs": [],
   "source": [
    "s3.save_file_to_s3('compare_user_performance.png')"
   ]
  }
 ],
 "metadata": {
  "kernelspec": {
   "display_name": "Python 3",
   "language": "python",
   "name": "python3"
  },
  "language_info": {
   "codemirror_mode": {
    "name": "ipython",
    "version": 3
   },
   "file_extension": ".py",
   "mimetype": "text/x-python",
   "name": "python",
   "nbconvert_exporter": "python",
   "pygments_lexer": "ipython3",
   "version": "3.6.2"
  }
 },
 "nbformat": 4,
 "nbformat_minor": 2
}
