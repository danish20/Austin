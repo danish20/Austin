{
 "cells": [
  {
   "cell_type": "code",
   "execution_count": 1,
   "metadata": {
    "collapsed": true
   },
   "outputs": [],
   "source": [
    "import json\n",
    "import pandas as pd\n",
    "import numpy as np\n",
    "import plotly.plotly as py\n",
    "import plotly.graph_objs as go\n",
    "import plotly\n",
    "import json\n",
    "from pprint import pprint\n",
    "import os"
   ]
  },
  {
   "cell_type": "code",
   "execution_count": 2,
   "metadata": {
    "collapsed": true
   },
   "outputs": [],
   "source": [
    "current_path = os.path.dirname(os.path.realpath(\"__file__\"))\n",
    "file = open(os.path.join(current_path,'../../../AustinBot/mockData.json'), 'r')\n",
    "mock = json.load(file)"
   ]
  },
  {
   "cell_type": "code",
   "execution_count": 3,
   "metadata": {
    "collapsed": true
   },
   "outputs": [],
   "source": [
    "sprints = mock[\"sprint\"]"
   ]
  },
  {
   "cell_type": "code",
   "execution_count": 8,
   "metadata": {
    "collapsed": true
   },
   "outputs": [],
   "source": [
    "query_id = \"20\""
   ]
  },
  {
   "cell_type": "code",
   "execution_count": 9,
   "metadata": {
    "collapsed": true
   },
   "outputs": [],
   "source": [
    "for sprint in sprints:\n",
    "    if sprint[\"id\"]==query_id:\n",
    "        current_sprint = sprint"
   ]
  },
  {
   "cell_type": "code",
   "execution_count": 10,
   "metadata": {},
   "outputs": [],
   "source": [
    "total_hours = 0\n",
    "for story in current_sprint[\"stories\"]:\n",
    "    total_hours += story[\"story_hours\"]\n",
    "#print(current_sprint)\n",
    "work_done_on = dict()\n",
    "for story in current_sprint[\"stories\"]:\n",
    "    for task in story[\"task\"]:\n",
    "        for work in task[\"daily_progress\"]:\n",
    "            try:\n",
    "                work_done_on[work[\"date\"]] += work[\"work_done\"]\n",
    "            except:\n",
    "                work_done_on[work[\"date\"]] = work[\"work_done\"]\n",
    "#print(work_done_on)"
   ]
  },
  {
   "cell_type": "code",
   "execution_count": 12,
   "metadata": {
    "collapsed": true
   },
   "outputs": [],
   "source": [
    "os.chdir('/Users/udit/CSC510/Austin/Milestone2/Python/Scripts/')"
   ]
  },
  {
   "cell_type": "code",
   "execution_count": 13,
   "metadata": {},
   "outputs": [],
   "source": [
    "from burndown import parse_json_for_burndown\n",
    "from burndown import plot_burndown"
   ]
  },
  {
   "cell_type": "code",
   "execution_count": 22,
   "metadata": {
    "collapsed": true
   },
   "outputs": [],
   "source": [
    "[x,y_20,y_ideal] = parse_json_for_burndown(\"20\")"
   ]
  },
  {
   "cell_type": "code",
   "execution_count": 23,
   "metadata": {
    "collapsed": true
   },
   "outputs": [],
   "source": [
    "[x, y_21, y_ideal] = parse_json_for_burndown(\"21\")"
   ]
  },
  {
   "cell_type": "code",
   "execution_count": 24,
   "metadata": {
    "collapsed": true
   },
   "outputs": [],
   "source": [
    "x = [\"Day \"+str(i) for i in range(1,len(x)+1)]"
   ]
  },
  {
   "cell_type": "code",
   "execution_count": 25,
   "metadata": {},
   "outputs": [
    {
     "data": {
      "text/plain": [
       "['Day 1',\n",
       " 'Day 2',\n",
       " 'Day 3',\n",
       " 'Day 4',\n",
       " 'Day 5',\n",
       " 'Day 6',\n",
       " 'Day 7',\n",
       " 'Day 8',\n",
       " 'Day 9',\n",
       " 'Day 10',\n",
       " 'Day 11',\n",
       " 'Day 12',\n",
       " 'Day 13',\n",
       " 'Day 14',\n",
       " 'Day 15']"
      ]
     },
     "execution_count": 25,
     "metadata": {},
     "output_type": "execute_result"
    }
   ],
   "source": [
    "x"
   ]
  },
  {
   "cell_type": "code",
   "execution_count": 26,
   "metadata": {},
   "outputs": [
    {
     "data": {
      "text/html": [
       "<iframe id=\"igraph\" scrolling=\"no\" style=\"border:none;\" seamless=\"seamless\" src=\"https://plot.ly/~udeshmu/12.embed\" height=\"525px\" width=\"100%\"></iframe>"
      ],
      "text/plain": [
       "<plotly.tools.PlotlyDisplay object>"
      ]
     },
     "execution_count": 26,
     "metadata": {},
     "output_type": "execute_result"
    }
   ],
   "source": [
    "plotly.tools.set_credentials_file(username='udeshmu', api_key='qIyD3uwDHJdtNvjSsFyS')\n",
    "trace1 = go.Scatter(\n",
    "        x = x,\n",
    "        y = y_20,\n",
    "        name = '<b>Sprint 20</b>', # Style name/legend entry with html tags\n",
    "        connectgaps=True\n",
    "        )\n",
    "trace2 = go.Scatter(\n",
    "        x = x,\n",
    "        y = y_21,\n",
    "        name = '<b>Sprint 21</b>', # Style name/legend entry with html tags\n",
    "        connectgaps=True,\n",
    "        line = dict(color = ('rgb(205, 12, 24)'),width = 4)\n",
    "    )\n",
    "data = [trace1, trace2]\n",
    "fig = dict(data=data)\n",
    "py.iplot(fig, filename = 'sprint_performance')"
   ]
  }
 ],
 "metadata": {
  "kernelspec": {
   "display_name": "Python 3",
   "language": "python",
   "name": "python3"
  },
  "language_info": {
   "codemirror_mode": {
    "name": "ipython",
    "version": 3
   },
   "file_extension": ".py",
   "mimetype": "text/x-python",
   "name": "python",
   "nbconvert_exporter": "python",
   "pygments_lexer": "ipython3",
   "version": "3.6.2"
  }
 },
 "nbformat": 4,
 "nbformat_minor": 2
}
