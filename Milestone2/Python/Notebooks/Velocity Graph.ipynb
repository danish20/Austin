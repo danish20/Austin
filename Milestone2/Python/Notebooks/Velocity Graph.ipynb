{
 "cells": [
  {
   "cell_type": "code",
   "execution_count": 30,
   "metadata": {},
   "outputs": [],
   "source": [
    "import json\n",
    "import pandas as pd\n",
    "import numpy as np\n",
    "import plotly.plotly as py\n",
    "import plotly.graph_objs as go\n",
    "import plotly\n",
    "import json\n",
    "from pprint import pprint\n",
    "import os"
   ]
  },
  {
   "cell_type": "code",
   "execution_count": 31,
   "metadata": {
    "collapsed": true
   },
   "outputs": [],
   "source": [
    "current_path = os.path.dirname(os.path.realpath(\"__file__\"))\n",
    "file = open(os.path.join(current_path,'../../../AustinBot/mockData.json'), 'r')\n",
    "mock = json.load(file)\n",
    "sprints = mock[\"sprint\"]"
   ]
  },
  {
   "cell_type": "code",
   "execution_count": 32,
   "metadata": {},
   "outputs": [
    {
     "name": "stdout",
     "output_type": "stream",
     "text": [
      "{'20': 11, '21': 3}\n",
      "{'20': 1, '21': 9}\n"
     ]
    }
   ],
   "source": [
    "complete = dict()\n",
    "incomplete = dict()\n",
    "for sprint in sprints:\n",
    "    complete[sprint[\"id\"]] = 0\n",
    "    incomplete[sprint[\"id\"]] = 0\n",
    "    for story in sprint[\"stories\"]:\n",
    "        for task in story[\"task\"]:\n",
    "            if task[\"status\"] == \"Complete\":\n",
    "                complete[sprint[\"id\"]] += 1\n",
    "            elif task[\"status\"] == \"Active\":\n",
    "                incomplete[sprint[\"id\"]] += 1\n",
    "print(complete)\n",
    "print(incomplete)"
   ]
  },
  {
   "cell_type": "code",
   "execution_count": 33,
   "metadata": {},
   "outputs": [],
   "source": [
    "x = list(complete.keys())"
   ]
  },
  {
   "cell_type": "code",
   "execution_count": 34,
   "metadata": {
    "collapsed": true
   },
   "outputs": [],
   "source": [
    "x=['Sprint '+i for i in x]"
   ]
  },
  {
   "cell_type": "code",
   "execution_count": 35,
   "metadata": {},
   "outputs": [],
   "source": [
    "y_complete = list(complete.values())\n",
    "y_incomplete = list(incomplete.values())"
   ]
  },
  {
   "cell_type": "code",
   "execution_count": null,
   "metadata": {},
   "outputs": [],
   "source": []
  },
  {
   "cell_type": "code",
   "execution_count": 36,
   "metadata": {},
   "outputs": [
    {
     "data": {
      "text/html": [
       "<iframe id=\"igraph\" scrolling=\"no\" style=\"border:none;\" seamless=\"seamless\" src=\"https://plot.ly/~udeshmu/10.embed\" height=\"525px\" width=\"100%\"></iframe>"
      ],
      "text/plain": [
       "<plotly.tools.PlotlyDisplay object>"
      ]
     },
     "execution_count": 36,
     "metadata": {},
     "output_type": "execute_result"
    }
   ],
   "source": [
    "trace1 = go.Bar(\n",
    "    x=x,\n",
    "    y=y_complete,\n",
    "    name='Complete Tasks'\n",
    ")\n",
    "trace2 = go.Bar(\n",
    "    x=x,\n",
    "    y=y_incomplete,\n",
    "    name='Incomplete Tasks'\n",
    ")\n",
    "\n",
    "data = [trace1, trace2]\n",
    "layout = go.Layout(\n",
    "    barmode='stack'\n",
    ")\n",
    "\n",
    "fig = go.Figure(data=data, layout=layout)\n",
    "py.iplot(fig, filename='velocity')"
   ]
  }
 ],
 "metadata": {
  "kernelspec": {
   "display_name": "Python 3",
   "language": "python",
   "name": "python3"
  },
  "language_info": {
   "codemirror_mode": {
    "name": "ipython",
    "version": 3
   },
   "file_extension": ".py",
   "mimetype": "text/x-python",
   "name": "python",
   "nbconvert_exporter": "python",
   "pygments_lexer": "ipython3",
   "version": "3.6.2"
  }
 },
 "nbformat": 4,
 "nbformat_minor": 2
}
