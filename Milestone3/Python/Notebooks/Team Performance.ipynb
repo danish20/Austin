{
 "cells": [
  {
   "cell_type": "code",
   "execution_count": 1,
   "metadata": {
    "collapsed": true
   },
   "outputs": [],
   "source": [
    "import json\n",
    "import pandas as pd\n",
    "import numpy as np\n",
    "import plotly.plotly as py\n",
    "import plotly.graph_objs as go\n",
    "import plotly\n",
    "import json\n",
    "from pprint import pprint\n",
    "import os\n",
    "import s3"
   ]
  },
  {
   "cell_type": "code",
   "execution_count": 2,
   "metadata": {
    "collapsed": true
   },
   "outputs": [],
   "source": [
    "current_path = os.path.dirname(os.path.realpath(\"__file__\"))\n",
    "file = open(os.path.join(current_path,'../../../AustinBot/mockData.json'), 'r')\n",
    "mock = json.load(file)"
   ]
  },
  {
   "cell_type": "code",
   "execution_count": 3,
   "metadata": {
    "collapsed": true
   },
   "outputs": [],
   "source": [
    "sprints = mock[\"sprint\"]\n",
    "query_id=\"20\""
   ]
  },
  {
   "cell_type": "code",
   "execution_count": 4,
   "metadata": {
    "collapsed": true
   },
   "outputs": [],
   "source": [
    "for sprint in sprints:\n",
    "    if sprint[\"id\"]==query_id:\n",
    "        current_sprint = sprint"
   ]
  },
  {
   "cell_type": "code",
   "execution_count": 5,
   "metadata": {},
   "outputs": [
    {
     "name": "stdout",
     "output_type": "stream",
     "text": [
      "{'id': '20', 'start_date': '07/03/2017', 'end_date': '07/23/2017', 'team_member': [{'user_id': 100, 'user_name': 'Udit', 'performance_chart_url': 'https://s3.us-east-2.amazonaws.com/austinbot/user_performance.png'}, {'user_id': 101, 'user_name': 'Dsuri', 'performance_chart_url': 'https://s3.us-east-2.amazonaws.com/austinbot/user_performance.png'}, {'user_id': 102, 'user_name': 'Prashant', 'performance_chart_url': 'https://s3.us-east-2.amazonaws.com/austinbot/user_performance.png'}, {'user_id': 103, 'user_name': 'Sandeep', 'performance_chart_url': 'https://s3.us-east-2.amazonaws.com/austinbot/user_performance.png'}], 'stories': [{'story_id': '20_1', 'story_name': '', 'story_hours': 240, 'task': [{'task_id': '20_1_1', 'excepted_hours': 50, 'user_id': 100, 'daily_progress': [{'date': '07/03/2017', 'work_done': 8}, {'date': '07/04/2017', 'work_done': 8}, {'date': '07/05/2017', 'work_done': 8}, {'date': '07/06/2017', 'work_done': 8}, {'date': '07/07/2017', 'work_done': 8}, {'date': '07/10/2017', 'work_done': 8}, {'date': '07/11/2017', 'work_done': 2}], 'status': 'Complete'}, {'task_id': '20_1_2', 'excepted_hours': 60, 'user_id': 102, 'daily_progress': [{'date': '07/03/2017', 'work_done': 8}, {'date': '07/04/2017', 'work_done': 8}, {'date': '07/05/2017', 'work_done': 8}, {'date': '07/06/2017', 'work_done': 8}, {'date': '07/07/2017', 'work_done': 8}, {'date': '07/10/2017', 'work_done': 8}, {'date': '07/11/2017', 'work_done': 8}, {'date': '07/12/2017', 'work_done': 4}], 'status': 'Complete'}, {'task_id': '20_1_3', 'excepted_hours': 70, 'user_id': 101, 'daily_progress': [{'date': '07/03/2017', 'work_done': 8}, {'date': '07/04/2017', 'work_done': 8}, {'date': '07/05/2017', 'work_done': 8}, {'date': '07/06/2017', 'work_done': 8}, {'date': '07/07/2017', 'work_done': 8}, {'date': '07/10/2017', 'work_done': 8}, {'date': '07/11/2017', 'work_done': 8}, {'date': '07/12/2017', 'work_done': 8}, {'date': '07/13/2017', 'work_done': 6}], 'status': 'Complete'}, {'task_id': '20_1_4', 'excepted_hours': 20, 'user_id': 103, 'daily_progress': [{'date': '07/03/2017', 'work_done': 8}, {'date': '07/04/2017', 'work_done': 8}, {'date': '07/05/2017', 'work_done': 4}], 'status': 'Complete'}, {'task_id': '20_1_5', 'excepted_hours': 40, 'user_id': 103, 'daily_progress': [{'date': '07/05/2017', 'work_done': 4}, {'date': '07/06/2017', 'work_done': 8}, {'date': '07/07/2017', 'work_done': 8}, {'date': '07/10/2017', 'work_done': 8}, {'date': '07/11/2017', 'work_done': 8}, {'date': '07/12/2017', 'work_done': 4}], 'status': 'Complete'}]}, {'story_id': '20_2', 'story_name': '', 'story_hours': 100, 'task': [{'task_id': '20_2_1', 'excepted_hours': 40, 'user_id': 100, 'daily_progress': [{'date': '07/11/2017', 'work_done': 6}, {'date': '07/12/2017', 'work_done': 8}, {'date': '07/13/2017', 'work_done': 8}, {'date': '07/14/2017', 'work_done': 8}, {'date': '07/17/2017', 'work_done': 8}, {'date': '07/18/2017', 'work_done': 2}], 'status': 'Complete'}, {'task_id': '20_2_2', 'excepted_hours': 40, 'user_id': 102, 'daily_progress': [{'date': '07/12/2017', 'work_done': 4}, {'date': '07/13/2017', 'work_done': 8}, {'date': '07/14/2017', 'work_done': 8}, {'date': '07/17/2017', 'work_done': 8}, {'date': '07/18/2017', 'work_done': 8}, {'date': '07/19/2017', 'work_done': 4}], 'status': 'Complete'}, {'task_id': '20_2_3', 'excepted_hours': 20, 'user_id': 101, 'daily_progress': [{'date': '07/13/2017', 'work_done': 2}, {'date': '07/14/2017', 'work_done': 8}, {'date': '07/17/2017', 'work_done': 8}, {'date': '07/18/2017', 'work_done': 2}], 'status': 'Complete'}]}, {'story_id': '20_3', 'story_name': '', 'story_hours': 140, 'task': [{'task_id': '20_3_1', 'excepted_hours': 30, 'user_id': 100, 'daily_progress': [{'date': '07/18/2017', 'work_done': 6}, {'date': '07/19/2017', 'work_done': 8}, {'date': '07/20/2017', 'work_done': 8}, {'date': '07/21/2017', 'work_done': 8}], 'status': 'Complete'}, {'task_id': '20_3_2', 'excepted_hours': 20, 'user_id': 102, 'daily_progress': [{'date': '07/19/2017', 'work_done': 4}, {'date': '07/20/2017', 'work_done': 8}, {'date': '07/21/2017', 'work_done': 8}], 'status': 'Complete'}, {'task_id': '20_3_3', 'excepted_hours': 20, 'user_id': 101, 'daily_progress': [{'date': '07/18/2017', 'work_done': 6}, {'date': '07/19/2017', 'work_done': 8}, {'date': '07/20/2017', 'work_done': 8}, {'date': '07/21/2017', 'work_done': 8}], 'status': 'Complete'}, {'task_id': '20_3_4', 'excepted_hours': 70, 'user_id': 103, 'daily_progress': [{'date': '07/12/2017', 'work_done': 4}, {'date': '07/13/2017', 'work_done': 8}, {'date': '07/14/2017', 'work_done': 8}, {'date': '07/17/2017', 'work_done': 8}, {'date': '07/18/2017', 'work_done': 8}, {'date': '07/19/2017', 'work_done': 8}, {'date': '07/20/2017', 'work_done': 8}, {'date': '07/21/2017', 'work_done': 8}], 'status': 'Active'}]}], 'burndown_img_url': 'https://s3.us-east-2.amazonaws.com/austinbot/burndown.png'}\n"
     ]
    }
   ],
   "source": [
    "print(current_sprint)"
   ]
  }
 ],
 "metadata": {
  "kernelspec": {
   "display_name": "Python 3",
   "language": "python",
   "name": "python3"
  },
  "language_info": {
   "codemirror_mode": {
    "name": "ipython",
    "version": 3
   },
   "file_extension": ".py",
   "mimetype": "text/x-python",
   "name": "python",
   "nbconvert_exporter": "python",
   "pygments_lexer": "ipython3",
   "version": "3.6.2"
  }
 },
 "nbformat": 4,
 "nbformat_minor": 2
}
