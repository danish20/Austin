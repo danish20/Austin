{
 "cells": [
  {
   "cell_type": "code",
   "execution_count": 1,
   "metadata": {
    "collapsed": true
   },
   "outputs": [],
   "source": [
    "import plotly.plotly as py\n",
    "import plotly.graph_objs as go\n",
    "import plotly\n",
    "import json\n",
    "from pprint import pprint\n",
    "import sys\n",
    "import s3\n",
    "import os\n",
    "import urllib3"
   ]
  },
  {
   "cell_type": "code",
   "execution_count": 2,
   "metadata": {},
   "outputs": [
    {
     "name": "stderr",
     "output_type": "stream",
     "text": [
      "/Users/udit/anaconda3/lib/python3.6/site-packages/urllib3/connectionpool.py:858: InsecureRequestWarning:\n",
      "\n",
      "Unverified HTTPS request is being made. Adding certificate verification is strongly advised. See: https://urllib3.readthedocs.io/en/latest/advanced-usage.html#ssl-warnings\n",
      "\n"
     ]
    }
   ],
   "source": [
    "http = urllib3.PoolManager()\n",
    "r = http.request('GET', 'https://api.myjson.com/bins/1gqsrn')\n",
    "sprints = json.loads(r.data.decode('utf8'))"
   ]
  },
  {
   "cell_type": "code",
   "execution_count": 3,
   "metadata": {},
   "outputs": [
    {
     "data": {
      "text/plain": [
       "[{'best_performer_img_url': 'https://s3.us-east-2.amazonaws.com/austinbot/compare_user_performance.png',\n",
       "  'burndown_img_url': 'https://s3.us-east-2.amazonaws.com/austinbot/burndown.png',\n",
       "  'end_date': '07/23/2017',\n",
       "  'id': '20',\n",
       "  'sprint_status_img_url': 'https://s3.us-east-2.amazonaws.com/austinbot/sprint_status.png',\n",
       "  'start_date': '07/03/2017',\n",
       "  'stories': [{'story_hours': 240,\n",
       "    'story_id': '20_1',\n",
       "    'story_name': '',\n",
       "    'task': [{'daily_progress': [{'date': '07/03/2017', 'work_done': 8},\n",
       "       {'date': '07/04/2017', 'work_done': 8},\n",
       "       {'date': '07/05/2017', 'work_done': 8},\n",
       "       {'date': '07/06/2017', 'work_done': 8},\n",
       "       {'date': '07/07/2017', 'work_done': 8},\n",
       "       {'date': '07/10/2017', 'work_done': 8},\n",
       "       {'date': '07/11/2017', 'work_done': 2}],\n",
       "      'excepted_hours': 50,\n",
       "      'status': 'Complete',\n",
       "      'task_id': '20_1_1',\n",
       "      'user_id': 100},\n",
       "     {'daily_progress': [{'date': '07/03/2017', 'work_done': 8},\n",
       "       {'date': '07/04/2017', 'work_done': 8},\n",
       "       {'date': '07/05/2017', 'work_done': 8},\n",
       "       {'date': '07/06/2017', 'work_done': 8},\n",
       "       {'date': '07/07/2017', 'work_done': 8},\n",
       "       {'date': '07/10/2017', 'work_done': 8},\n",
       "       {'date': '07/11/2017', 'work_done': 8},\n",
       "       {'date': '07/12/2017', 'work_done': 4}],\n",
       "      'excepted_hours': 60,\n",
       "      'status': 'Complete',\n",
       "      'task_id': '20_1_2',\n",
       "      'user_id': 102},\n",
       "     {'daily_progress': [{'date': '07/03/2017', 'work_done': 8},\n",
       "       {'date': '07/04/2017', 'work_done': 8},\n",
       "       {'date': '07/05/2017', 'work_done': 8},\n",
       "       {'date': '07/06/2017', 'work_done': 8},\n",
       "       {'date': '07/07/2017', 'work_done': 8},\n",
       "       {'date': '07/10/2017', 'work_done': 8},\n",
       "       {'date': '07/11/2017', 'work_done': 8},\n",
       "       {'date': '07/12/2017', 'work_done': 8},\n",
       "       {'date': '07/13/2017', 'work_done': 6}],\n",
       "      'excepted_hours': 70,\n",
       "      'status': 'Complete',\n",
       "      'task_id': '20_1_3',\n",
       "      'user_id': 101},\n",
       "     {'daily_progress': [{'date': '07/03/2017', 'work_done': 8},\n",
       "       {'date': '07/04/2017', 'work_done': 8},\n",
       "       {'date': '07/05/2017', 'work_done': 4}],\n",
       "      'excepted_hours': 20,\n",
       "      'status': 'Complete',\n",
       "      'task_id': '20_1_4',\n",
       "      'user_id': 103},\n",
       "     {'daily_progress': [{'date': '07/05/2017', 'work_done': 4},\n",
       "       {'date': '07/06/2017', 'work_done': 8},\n",
       "       {'date': '07/07/2017', 'work_done': 8},\n",
       "       {'date': '07/10/2017', 'work_done': 8},\n",
       "       {'date': '07/11/2017', 'work_done': 8},\n",
       "       {'date': '07/12/2017', 'work_done': 4}],\n",
       "      'excepted_hours': 40,\n",
       "      'status': 'Complete',\n",
       "      'task_id': '20_1_5',\n",
       "      'user_id': 103}]},\n",
       "   {'story_hours': 100,\n",
       "    'story_id': '20_2',\n",
       "    'story_name': '',\n",
       "    'task': [{'daily_progress': [{'date': '07/11/2017', 'work_done': 6},\n",
       "       {'date': '07/12/2017', 'work_done': 8},\n",
       "       {'date': '07/13/2017', 'work_done': 8},\n",
       "       {'date': '07/14/2017', 'work_done': 8},\n",
       "       {'date': '07/17/2017', 'work_done': 8},\n",
       "       {'date': '07/18/2017', 'work_done': 2}],\n",
       "      'excepted_hours': 40,\n",
       "      'status': 'Complete',\n",
       "      'task_id': '20_2_1',\n",
       "      'user_id': 100},\n",
       "     {'daily_progress': [{'date': '07/12/2017', 'work_done': 4},\n",
       "       {'date': '07/13/2017', 'work_done': 8},\n",
       "       {'date': '07/14/2017', 'work_done': 8},\n",
       "       {'date': '07/17/2017', 'work_done': 8},\n",
       "       {'date': '07/18/2017', 'work_done': 8},\n",
       "       {'date': '07/19/2017', 'work_done': 4}],\n",
       "      'excepted_hours': 40,\n",
       "      'status': 'Complete',\n",
       "      'task_id': '20_2_2',\n",
       "      'user_id': 102},\n",
       "     {'daily_progress': [{'date': '07/13/2017', 'work_done': 2},\n",
       "       {'date': '07/14/2017', 'work_done': 8},\n",
       "       {'date': '07/17/2017', 'work_done': 8},\n",
       "       {'date': '07/18/2017', 'work_done': 2}],\n",
       "      'excepted_hours': 20,\n",
       "      'status': 'Complete',\n",
       "      'task_id': '20_2_3',\n",
       "      'user_id': 101}]},\n",
       "   {'story_hours': 140,\n",
       "    'story_id': '20_3',\n",
       "    'story_name': '',\n",
       "    'task': [{'daily_progress': [{'date': '07/18/2017', 'work_done': 6},\n",
       "       {'date': '07/19/2017', 'work_done': 8},\n",
       "       {'date': '07/20/2017', 'work_done': 8},\n",
       "       {'date': '07/21/2017', 'work_done': 8}],\n",
       "      'excepted_hours': 30,\n",
       "      'status': 'Complete',\n",
       "      'task_id': '20_3_1',\n",
       "      'user_id': 100},\n",
       "     {'daily_progress': [{'date': '07/19/2017', 'work_done': 4},\n",
       "       {'date': '07/20/2017', 'work_done': 8},\n",
       "       {'date': '07/21/2017', 'work_done': 8}],\n",
       "      'excepted_hours': 20,\n",
       "      'status': 'Complete',\n",
       "      'task_id': '20_3_2',\n",
       "      'user_id': 102},\n",
       "     {'daily_progress': [{'date': '07/18/2017', 'work_done': 6},\n",
       "       {'date': '07/19/2017', 'work_done': 8},\n",
       "       {'date': '07/20/2017', 'work_done': 8},\n",
       "       {'date': '07/21/2017', 'work_done': 8}],\n",
       "      'excepted_hours': 20,\n",
       "      'status': 'Complete',\n",
       "      'task_id': '20_3_3',\n",
       "      'user_id': 101},\n",
       "     {'daily_progress': [{'date': '07/12/2017', 'work_done': 4},\n",
       "       {'date': '07/13/2017', 'work_done': 8},\n",
       "       {'date': '07/14/2017', 'work_done': 8},\n",
       "       {'date': '07/17/2017', 'work_done': 8},\n",
       "       {'date': '07/18/2017', 'work_done': 8},\n",
       "       {'date': '07/19/2017', 'work_done': 8},\n",
       "       {'date': '07/20/2017', 'work_done': 8},\n",
       "       {'date': '07/21/2017', 'work_done': 8}],\n",
       "      'excepted_hours': 70,\n",
       "      'status': 'Active',\n",
       "      'task_id': '20_3_4',\n",
       "      'user_id': 103}]}],\n",
       "  'task_performance_img_url': 'https://s3.us-east-2.amazonaws.com/austinbot/performance2_4.png',\n",
       "  'team_member': [{'performance_chart_url': 'https://s3.us-east-2.amazonaws.com/austinbot/user_performance.png',\n",
       "    'user_id': 100,\n",
       "    'user_name': 'Udit'},\n",
       "   {'performance_chart_url': 'https://s3.us-east-2.amazonaws.com/austinbot/user_performance.png',\n",
       "    'user_id': 101,\n",
       "    'user_name': 'Dsuri'},\n",
       "   {'performance_chart_url': 'https://s3.us-east-2.amazonaws.com/austinbot/user_performance.png',\n",
       "    'user_id': 102,\n",
       "    'user_name': 'Prashant'},\n",
       "   {'performance_chart_url': 'https://s3.us-east-2.amazonaws.com/austinbot/user_performance.png',\n",
       "    'user_id': 103,\n",
       "    'user_name': 'Sandeep'}]},\n",
       " {'best_performer_img_url': 'https://s3.us-east-2.amazonaws.com/austinbot/compare_user_performance.png',\n",
       "  'burndown_img_url': 'https://s3.us-east-2.amazonaws.com/austinbot/burndown.png',\n",
       "  'end_date': '08/13/2017',\n",
       "  'id': '21',\n",
       "  'sprint_status_img_url': 'https://s3.us-east-2.amazonaws.com/austinbot/sprint_status.png',\n",
       "  'start_date': '07/24/2017',\n",
       "  'stories': [{'story_hours': 240,\n",
       "    'story_id': '21_1',\n",
       "    'story_name': '',\n",
       "    'task': [{'daily_progress': [{'date': '07/24/2017', 'work_done': 6},\n",
       "       {'date': '07/25/2017', 'work_done': 5},\n",
       "       {'date': '07/26/2017', 'work_done': 4},\n",
       "       {'date': '07/27/2017', 'work_done': 3},\n",
       "       {'date': '07/28/2017', 'work_done': 6},\n",
       "       {'date': '07/31/2017', 'work_done': 6},\n",
       "       {'date': '08/1/2017', 'work_done': 2}],\n",
       "      'excepted_hours': 50,\n",
       "      'status': 'Active',\n",
       "      'task_id': '21_1_1',\n",
       "      'user_id': 100},\n",
       "     {'daily_progress': [{'date': '07/24/2017', 'work_done': 8},\n",
       "       {'date': '07/25/2017', 'work_done': 8},\n",
       "       {'date': '07/26/2017', 'work_done': 8},\n",
       "       {'date': '07/27/2017', 'work_done': 8},\n",
       "       {'date': '07/28/2017', 'work_done': 8},\n",
       "       {'date': '07/31/2017', 'work_done': 8},\n",
       "       {'date': '08/1/2017', 'work_done': 8},\n",
       "       {'date': '08/2/2017', 'work_done': 4}],\n",
       "      'excepted_hours': 60,\n",
       "      'status': 'Complete',\n",
       "      'task_id': '21_1_2',\n",
       "      'user_id': 104},\n",
       "     {'daily_progress': [{'date': '07/24/2017', 'work_done': 8},\n",
       "       {'date': '07/25/2017', 'work_done': 8},\n",
       "       {'date': '07/26/2017', 'work_done': 8},\n",
       "       {'date': '07/27/2017', 'work_done': 8},\n",
       "       {'date': '07/28/2017', 'work_done': 8},\n",
       "       {'date': '07/31/2017', 'work_done': 8},\n",
       "       {'date': '08/1/2017', 'work_done': 8},\n",
       "       {'date': '08/2/2017', 'work_done': 8},\n",
       "       {'date': '08/3/2017', 'work_done': 6}],\n",
       "      'excepted_hours': 70,\n",
       "      'status': 'Complete',\n",
       "      'task_id': '21_1_3',\n",
       "      'user_id': 101},\n",
       "     {'daily_progress': [{'date': '07/24/2017', 'work_done': 8},\n",
       "       {'date': '07/25/2017', 'work_done': 8},\n",
       "       {'date': '07/26/2017', 'work_done': 4}],\n",
       "      'excepted_hours': 20,\n",
       "      'status': 'Complete',\n",
       "      'task_id': '21_1_4',\n",
       "      'user_id': 105},\n",
       "     {'daily_progress': [{'date': '07/26/2017', 'work_done': 4},\n",
       "       {'date': '07/27/2017', 'work_done': 7},\n",
       "       {'date': '07/28/2017', 'work_done': 7},\n",
       "       {'date': '07/31/2017', 'work_done': 7},\n",
       "       {'date': '08/1/2017', 'work_done': 7},\n",
       "       {'date': '08/2/2017', 'work_done': 4}],\n",
       "      'excepted_hours': 40,\n",
       "      'status': 'Active',\n",
       "      'task_id': '21_1_5',\n",
       "      'user_id': 105}]},\n",
       "   {'story_hours': 100,\n",
       "    'story_id': '21_2',\n",
       "    'story_name': '',\n",
       "    'task': [{'daily_progress': [{'date': '08/1/2017', 'work_done': 6},\n",
       "       {'date': '08/2/2017', 'work_done': 7},\n",
       "       {'date': '08/3/2017', 'work_done': 5},\n",
       "       {'date': '08/4/2017', 'work_done': 6},\n",
       "       {'date': '08/7/2017', 'work_done': 7},\n",
       "       {'date': '08/8/2017', 'work_done': 2}],\n",
       "      'excepted_hours': 40,\n",
       "      'status': 'Active',\n",
       "      'task_id': '21_2_1',\n",
       "      'user_id': 100},\n",
       "     {'daily_progress': [{'date': '08/2/2017', 'work_done': 4},\n",
       "       {'date': '08/3/2017', 'work_done': 7},\n",
       "       {'date': '08/4/2017', 'work_done': 7},\n",
       "       {'date': '08/7/2017', 'work_done': 7},\n",
       "       {'date': '08/8/2017', 'work_done': 7},\n",
       "       {'date': '08/9/2017', 'work_done': 4}],\n",
       "      'excepted_hours': 40,\n",
       "      'status': 'Active',\n",
       "      'task_id': '21_2_2',\n",
       "      'user_id': 104},\n",
       "     {'daily_progress': [{'date': '08/3/2017', 'work_done': 2},\n",
       "       {'date': '08/4/2017', 'work_done': 7},\n",
       "       {'date': '08/7/2017', 'work_done': 7},\n",
       "       {'date': '08/8/2017', 'work_done': 2}],\n",
       "      'excepted_hours': 20,\n",
       "      'status': 'Active',\n",
       "      'task_id': '21_2_3',\n",
       "      'user_id': 101}]},\n",
       "   {'story_hours': 140,\n",
       "    'story_id': '21_3',\n",
       "    'story_name': '',\n",
       "    'task': [{'daily_progress': [{'date': '08/8/2017', 'work_done': 6},\n",
       "       {'date': '08/9/2017', 'work_done': 6},\n",
       "       {'date': '08/10/2017', 'work_done': 6},\n",
       "       {'date': '08/11/2017', 'work_done': 6}],\n",
       "      'excepted_hours': 30,\n",
       "      'status': 'Active',\n",
       "      'task_id': '21_3_1',\n",
       "      'user_id': 100},\n",
       "     {'daily_progress': [{'date': '08/9/2017', 'work_done': 4},\n",
       "       {'date': '08/10/2017', 'work_done': 6},\n",
       "       {'date': '08/11/2017', 'work_done': 6}],\n",
       "      'excepted_hours': 20,\n",
       "      'status': 'Active',\n",
       "      'task_id': '21_3_2',\n",
       "      'user_id': 104},\n",
       "     {'daily_progress': [{'date': '08/8/2017', 'work_done': 6},\n",
       "       {'date': '08/9/2017', 'work_done': 5},\n",
       "       {'date': '08/10/2017', 'work_done': 6},\n",
       "       {'date': '08/11/2017', 'work_done': 7}],\n",
       "      'excepted_hours': 20,\n",
       "      'status': 'Active',\n",
       "      'task_id': '21_3_3',\n",
       "      'user_id': 101},\n",
       "     {'daily_progress': [{'date': '08/2/2017', 'work_done': 4},\n",
       "       {'date': '08/3/2017', 'work_done': 7},\n",
       "       {'date': '08/4/2017', 'work_done': 7},\n",
       "       {'date': '08/7/2017', 'work_done': 7},\n",
       "       {'date': '08/8/2017', 'work_done': 6},\n",
       "       {'date': '08/9/2017', 'work_done': 8},\n",
       "       {'date': '08/10/2017', 'work_done': 6},\n",
       "       {'date': '08/11/2017', 'work_done': 5}],\n",
       "      'excepted_hours': 70,\n",
       "      'status': 'Active',\n",
       "      'task_id': '21_3_4',\n",
       "      'user_id': 105}]}],\n",
       "  'task_performance_img_url': 'https://s3.us-east-2.amazonaws.com/austinbot/performance2_4.png',\n",
       "  'team_member': [{'user_id': 100, 'user_name': 'Udit'},\n",
       "   {'user_id': 101, 'user_name': 'Dsuri'},\n",
       "   {'user_id': 104, 'user_name': 'Sandy'},\n",
       "   {'user_id': 105, 'user_name': 'Prashant'}]}]"
      ]
     },
     "execution_count": 3,
     "metadata": {},
     "output_type": "execute_result"
    }
   ],
   "source": [
    "sprints"
   ]
  },
  {
   "cell_type": "code",
   "execution_count": 14,
   "metadata": {},
   "outputs": [],
   "source": [
    "users = []\n",
    "expected = []\n",
    "actual = []\n",
    "for sprint in sprints:\n",
    "    for story in sprint['stories']:\n",
    "        for task in story['task']:\n",
    "            users.append(task['user_id'])\n",
    "            #print(task)\n",
    "            expected.append(task['excepted_hours'])\n",
    "            work_done = 0\n",
    "            for day in task['daily_progress']:\n",
    "                work_done += day['work_done']\n",
    "            actual.append(work_done)\n",
    "                \n",
    "        "
   ]
  },
  {
   "cell_type": "code",
   "execution_count": 16,
   "metadata": {},
   "outputs": [
    {
     "data": {
      "text/plain": [
       "24"
      ]
     },
     "execution_count": 16,
     "metadata": {},
     "output_type": "execute_result"
    }
   ],
   "source": [
    "len(users)"
   ]
  },
  {
   "cell_type": "code",
   "execution_count": 17,
   "metadata": {},
   "outputs": [
    {
     "data": {
      "text/plain": [
       "24"
      ]
     },
     "execution_count": 17,
     "metadata": {},
     "output_type": "execute_result"
    }
   ],
   "source": [
    "len(expected)"
   ]
  },
  {
   "cell_type": "code",
   "execution_count": 18,
   "metadata": {},
   "outputs": [
    {
     "data": {
      "text/plain": [
       "24"
      ]
     },
     "execution_count": 18,
     "metadata": {},
     "output_type": "execute_result"
    }
   ],
   "source": [
    "len(actual)"
   ]
  },
  {
   "cell_type": "code",
   "execution_count": 19,
   "metadata": {
    "collapsed": true
   },
   "outputs": [],
   "source": [
    "import pandas as pd\n",
    "import numpy as np"
   ]
  },
  {
   "cell_type": "code",
   "execution_count": 20,
   "metadata": {
    "collapsed": true
   },
   "outputs": [],
   "source": [
    "data = pd.DataFrame({'users':users, 'expected':expected, 'actual':actual})"
   ]
  },
  {
   "cell_type": "code",
   "execution_count": 23,
   "metadata": {},
   "outputs": [],
   "source": [
    "data['users'] = data['users'].astype('category')"
   ]
  },
  {
   "cell_type": "code",
   "execution_count": 24,
   "metadata": {
    "collapsed": true
   },
   "outputs": [],
   "source": [
    "from sklearn import linear_model"
   ]
  },
  {
   "cell_type": "code",
   "execution_count": 25,
   "metadata": {
    "collapsed": true
   },
   "outputs": [],
   "source": [
    "model = linear_model.LinearRegression()"
   ]
  },
  {
   "cell_type": "code",
   "execution_count": 37,
   "metadata": {
    "collapsed": true
   },
   "outputs": [],
   "source": [
    "X = data[['expected']]\n",
    "Y = data['actual']"
   ]
  },
  {
   "cell_type": "code",
   "execution_count": 38,
   "metadata": {},
   "outputs": [
    {
     "data": {
      "text/plain": [
       "LinearRegression(copy_X=True, fit_intercept=True, n_jobs=1, normalize=False)"
      ]
     },
     "execution_count": 38,
     "metadata": {},
     "output_type": "execute_result"
    }
   ],
   "source": [
    "model.fit(X,Y)"
   ]
  },
  {
   "cell_type": "code",
   "execution_count": 44,
   "metadata": {
    "collapsed": true
   },
   "outputs": [],
   "source": [
    "X_test = pd.DataFrame({'users':[104], 'expected':[30]})\n",
    "X_test['users'] = X_test['users'].astype('category')"
   ]
  },
  {
   "cell_type": "code",
   "execution_count": 45,
   "metadata": {},
   "outputs": [
    {
     "data": {
      "text/html": [
       "<div>\n",
       "<style>\n",
       "    .dataframe thead tr:only-child th {\n",
       "        text-align: right;\n",
       "    }\n",
       "\n",
       "    .dataframe thead th {\n",
       "        text-align: left;\n",
       "    }\n",
       "\n",
       "    .dataframe tbody tr th {\n",
       "        vertical-align: top;\n",
       "    }\n",
       "</style>\n",
       "<table border=\"1\" class=\"dataframe\">\n",
       "  <thead>\n",
       "    <tr style=\"text-align: right;\">\n",
       "      <th></th>\n",
       "      <th>expected</th>\n",
       "      <th>users</th>\n",
       "    </tr>\n",
       "  </thead>\n",
       "  <tbody>\n",
       "    <tr>\n",
       "      <th>0</th>\n",
       "      <td>30</td>\n",
       "      <td>104</td>\n",
       "    </tr>\n",
       "  </tbody>\n",
       "</table>\n",
       "</div>"
      ],
      "text/plain": [
       "   expected users\n",
       "0        30   104"
      ]
     },
     "execution_count": 45,
     "metadata": {},
     "output_type": "execute_result"
    }
   ],
   "source": [
    "X_test"
   ]
  },
  {
   "cell_type": "code",
   "execution_count": 47,
   "metadata": {},
   "outputs": [
    {
     "data": {
      "text/plain": [
       "28"
      ]
     },
     "execution_count": 47,
     "metadata": {},
     "output_type": "execute_result"
    }
   ],
   "source": [
    "int(model.predict(X_test[['expected']]))"
   ]
  },
  {
   "cell_type": "code",
   "execution_count": 43,
   "metadata": {},
   "outputs": [
    {
     "data": {
      "text/html": [
       "<div>\n",
       "<style>\n",
       "    .dataframe thead tr:only-child th {\n",
       "        text-align: right;\n",
       "    }\n",
       "\n",
       "    .dataframe thead th {\n",
       "        text-align: left;\n",
       "    }\n",
       "\n",
       "    .dataframe tbody tr th {\n",
       "        vertical-align: top;\n",
       "    }\n",
       "</style>\n",
       "<table border=\"1\" class=\"dataframe\">\n",
       "  <thead>\n",
       "    <tr style=\"text-align: right;\">\n",
       "      <th></th>\n",
       "      <th>expected</th>\n",
       "    </tr>\n",
       "  </thead>\n",
       "  <tbody>\n",
       "    <tr>\n",
       "      <th>0</th>\n",
       "      <td>50</td>\n",
       "    </tr>\n",
       "    <tr>\n",
       "      <th>1</th>\n",
       "      <td>60</td>\n",
       "    </tr>\n",
       "    <tr>\n",
       "      <th>2</th>\n",
       "      <td>70</td>\n",
       "    </tr>\n",
       "    <tr>\n",
       "      <th>3</th>\n",
       "      <td>20</td>\n",
       "    </tr>\n",
       "    <tr>\n",
       "      <th>4</th>\n",
       "      <td>40</td>\n",
       "    </tr>\n",
       "    <tr>\n",
       "      <th>5</th>\n",
       "      <td>40</td>\n",
       "    </tr>\n",
       "    <tr>\n",
       "      <th>6</th>\n",
       "      <td>40</td>\n",
       "    </tr>\n",
       "    <tr>\n",
       "      <th>7</th>\n",
       "      <td>20</td>\n",
       "    </tr>\n",
       "    <tr>\n",
       "      <th>8</th>\n",
       "      <td>30</td>\n",
       "    </tr>\n",
       "    <tr>\n",
       "      <th>9</th>\n",
       "      <td>20</td>\n",
       "    </tr>\n",
       "    <tr>\n",
       "      <th>10</th>\n",
       "      <td>20</td>\n",
       "    </tr>\n",
       "    <tr>\n",
       "      <th>11</th>\n",
       "      <td>70</td>\n",
       "    </tr>\n",
       "    <tr>\n",
       "      <th>12</th>\n",
       "      <td>50</td>\n",
       "    </tr>\n",
       "    <tr>\n",
       "      <th>13</th>\n",
       "      <td>60</td>\n",
       "    </tr>\n",
       "    <tr>\n",
       "      <th>14</th>\n",
       "      <td>70</td>\n",
       "    </tr>\n",
       "    <tr>\n",
       "      <th>15</th>\n",
       "      <td>20</td>\n",
       "    </tr>\n",
       "    <tr>\n",
       "      <th>16</th>\n",
       "      <td>40</td>\n",
       "    </tr>\n",
       "    <tr>\n",
       "      <th>17</th>\n",
       "      <td>40</td>\n",
       "    </tr>\n",
       "    <tr>\n",
       "      <th>18</th>\n",
       "      <td>40</td>\n",
       "    </tr>\n",
       "    <tr>\n",
       "      <th>19</th>\n",
       "      <td>20</td>\n",
       "    </tr>\n",
       "    <tr>\n",
       "      <th>20</th>\n",
       "      <td>30</td>\n",
       "    </tr>\n",
       "    <tr>\n",
       "      <th>21</th>\n",
       "      <td>20</td>\n",
       "    </tr>\n",
       "    <tr>\n",
       "      <th>22</th>\n",
       "      <td>20</td>\n",
       "    </tr>\n",
       "    <tr>\n",
       "      <th>23</th>\n",
       "      <td>70</td>\n",
       "    </tr>\n",
       "  </tbody>\n",
       "</table>\n",
       "</div>"
      ],
      "text/plain": [
       "    expected\n",
       "0         50\n",
       "1         60\n",
       "2         70\n",
       "3         20\n",
       "4         40\n",
       "5         40\n",
       "6         40\n",
       "7         20\n",
       "8         30\n",
       "9         20\n",
       "10        20\n",
       "11        70\n",
       "12        50\n",
       "13        60\n",
       "14        70\n",
       "15        20\n",
       "16        40\n",
       "17        40\n",
       "18        40\n",
       "19        20\n",
       "20        30\n",
       "21        20\n",
       "22        20\n",
       "23        70"
      ]
     },
     "execution_count": 43,
     "metadata": {},
     "output_type": "execute_result"
    }
   ],
   "source": [
    "X"
   ]
  },
  {
   "cell_type": "code",
   "execution_count": 54,
   "metadata": {
    "collapsed": true
   },
   "outputs": [],
   "source": [
    "file = open('hello.txt','w')"
   ]
  },
  {
   "cell_type": "code",
   "execution_count": 55,
   "metadata": {},
   "outputs": [
    {
     "data": {
      "text/plain": [
       "5"
      ]
     },
     "execution_count": 55,
     "metadata": {},
     "output_type": "execute_result"
    }
   ],
   "source": [
    "file.write(\"Hello\")"
   ]
  },
  {
   "cell_type": "code",
   "execution_count": 56,
   "metadata": {
    "collapsed": true
   },
   "outputs": [],
   "source": [
    "file.close()"
   ]
  },
  {
   "cell_type": "code",
   "execution_count": null,
   "metadata": {
    "collapsed": true
   },
   "outputs": [],
   "source": []
  }
 ],
 "metadata": {
  "kernelspec": {
   "display_name": "Python 3",
   "language": "python",
   "name": "python3"
  },
  "language_info": {
   "codemirror_mode": {
    "name": "ipython",
    "version": 3
   },
   "file_extension": ".py",
   "mimetype": "text/x-python",
   "name": "python",
   "nbconvert_exporter": "python",
   "pygments_lexer": "ipython3",
   "version": "3.6.2"
  }
 },
 "nbformat": 4,
 "nbformat_minor": 2
}
