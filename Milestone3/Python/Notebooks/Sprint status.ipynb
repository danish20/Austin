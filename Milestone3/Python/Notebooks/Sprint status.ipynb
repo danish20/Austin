{
 "cells": [
  {
   "cell_type": "code",
   "execution_count": 1,
   "metadata": {
    "collapsed": true
   },
   "outputs": [],
   "source": [
    "import json\n",
    "import pandas as pd\n",
    "import numpy as np\n",
    "import plotly.plotly as py\n",
    "import plotly.graph_objs as go\n",
    "import plotly\n",
    "import json\n",
    "from pprint import pprint\n",
    "import os\n",
    "import s3"
   ]
  },
  {
   "cell_type": "code",
   "execution_count": 2,
   "metadata": {
    "collapsed": true
   },
   "outputs": [],
   "source": [
    "current_path = os.path.dirname(os.path.realpath(\"__file__\"))\n",
    "file = open(os.path.join(current_path,'../../../AustinBot/mockData.json'), 'r')\n",
    "mock = json.load(file)"
   ]
  },
  {
   "cell_type": "code",
   "execution_count": 10,
   "metadata": {
    "collapsed": true
   },
   "outputs": [],
   "source": [
    "sprints = mock[\"sprint\"]\n",
    "query_id=\"21\""
   ]
  },
  {
   "cell_type": "code",
   "execution_count": 11,
   "metadata": {
    "collapsed": true
   },
   "outputs": [],
   "source": [
    "for sprint in sprints:\n",
    "    if sprint[\"id\"]==query_id:\n",
    "        current_sprint = sprint"
   ]
  },
  {
   "cell_type": "code",
   "execution_count": 12,
   "metadata": {},
   "outputs": [
    {
     "name": "stdout",
     "output_type": "stream",
     "text": [
      "{'id': '21', 'start_date': '07/24/2017', 'end_date': '08/13/2017', 'team_member': [{'user_id': 100, 'user_name': 'Udit'}, {'user_id': 101, 'user_name': 'Dsuri'}, {'user_id': 104, 'user_name': 'Sandy'}, {'user_id': 105, 'user_name': 'Prashant'}], 'stories': [{'story_id': '21_1', 'story_name': '', 'story_hours': 240, 'task': [{'task_id': '21_1_1', 'excepted_hours': 50, 'user_id': 100, 'daily_progress': [{'date': '07/24/2017', 'work_done': 6}, {'date': '07/25/2017', 'work_done': 5}, {'date': '07/26/2017', 'work_done': 4}, {'date': '07/27/2017', 'work_done': 3}, {'date': '07/28/2017', 'work_done': 6}, {'date': '07/31/2017', 'work_done': 6}, {'date': '08/1/2017', 'work_done': 2}], 'status': 'Active'}, {'task_id': '21_1_2', 'excepted_hours': 60, 'user_id': 104, 'daily_progress': [{'date': '07/24/2017', 'work_done': 8}, {'date': '07/25/2017', 'work_done': 8}, {'date': '07/26/2017', 'work_done': 8}, {'date': '07/27/2017', 'work_done': 8}, {'date': '07/28/2017', 'work_done': 8}, {'date': '07/31/2017', 'work_done': 8}, {'date': '08/1/2017', 'work_done': 8}, {'date': '08/2/2017', 'work_done': 4}], 'status': 'Complete'}, {'task_id': '21_1_3', 'excepted_hours': 70, 'user_id': 101, 'daily_progress': [{'date': '07/24/2017', 'work_done': 8}, {'date': '07/25/2017', 'work_done': 8}, {'date': '07/26/2017', 'work_done': 8}, {'date': '07/27/2017', 'work_done': 8}, {'date': '07/28/2017', 'work_done': 8}, {'date': '07/31/2017', 'work_done': 8}, {'date': '08/1/2017', 'work_done': 8}, {'date': '08/2/2017', 'work_done': 8}, {'date': '08/3/2017', 'work_done': 6}], 'status': 'Complete'}, {'task_id': '21_1_4', 'excepted_hours': 20, 'user_id': 105, 'daily_progress': [{'date': '07/24/2017', 'work_done': 8}, {'date': '07/25/2017', 'work_done': 8}, {'date': '07/26/2017', 'work_done': 4}], 'status': 'Complete'}, {'task_id': '21_1_5', 'excepted_hours': 40, 'user_id': 105, 'daily_progress': [{'date': '07/26/2017', 'work_done': 4}, {'date': '07/27/2017', 'work_done': 7}, {'date': '07/28/2017', 'work_done': 7}, {'date': '07/31/2017', 'work_done': 7}, {'date': '08/1/2017', 'work_done': 7}, {'date': '08/2/2017', 'work_done': 4}], 'status': 'Active'}]}, {'story_id': '21_2', 'story_name': '', 'story_hours': 100, 'task': [{'task_id': '21_2_1', 'excepted_hours': 40, 'user_id': 100, 'daily_progress': [{'date': '08/1/2017', 'work_done': 6}, {'date': '08/2/2017', 'work_done': 7}, {'date': '08/3/2017', 'work_done': 5}, {'date': '08/4/2017', 'work_done': 6}, {'date': '08/7/2017', 'work_done': 7}, {'date': '08/8/2017', 'work_done': 2}], 'status': 'Active'}, {'task_id': '21_2_2', 'excepted_hours': 40, 'user_id': 104, 'daily_progress': [{'date': '08/2/2017', 'work_done': 4}, {'date': '08/3/2017', 'work_done': 7}, {'date': '08/4/2017', 'work_done': 7}, {'date': '08/7/2017', 'work_done': 7}, {'date': '08/8/2017', 'work_done': 7}, {'date': '08/9/2017', 'work_done': 4}], 'status': 'Active'}, {'task_id': '21_2_3', 'excepted_hours': 20, 'user_id': 101, 'daily_progress': [{'date': '08/3/2017', 'work_done': 2}, {'date': '08/4/2017', 'work_done': 7}, {'date': '08/7/2017', 'work_done': 7}, {'date': '08/8/2017', 'work_done': 2}], 'status': 'Active'}]}, {'story_id': '21_3', 'story_name': '', 'story_hours': 140, 'task': [{'task_id': '21_3_1', 'excepted_hours': 30, 'user_id': 100, 'daily_progress': [{'date': '08/8/2017', 'work_done': 6}, {'date': '08/9/2017', 'work_done': 6}, {'date': '08/10/2017', 'work_done': 6}, {'date': '08/11/2017', 'work_done': 6}], 'status': 'Active'}, {'task_id': '21_3_2', 'excepted_hours': 20, 'user_id': 104, 'daily_progress': [{'date': '08/9/2017', 'work_done': 4}, {'date': '08/10/2017', 'work_done': 6}, {'date': '08/11/2017', 'work_done': 6}], 'status': 'Active'}, {'task_id': '21_3_3', 'excepted_hours': 20, 'user_id': 101, 'daily_progress': [{'date': '08/8/2017', 'work_done': 6}, {'date': '08/9/2017', 'work_done': 5}, {'date': '08/10/2017', 'work_done': 6}, {'date': '08/11/2017', 'work_done': 7}], 'status': 'Active'}, {'task_id': '21_3_4', 'excepted_hours': 70, 'user_id': 105, 'daily_progress': [{'date': '08/2/2017', 'work_done': 4}, {'date': '08/3/2017', 'work_done': 7}, {'date': '08/4/2017', 'work_done': 7}, {'date': '08/7/2017', 'work_done': 7}, {'date': '08/8/2017', 'work_done': 6}, {'date': '08/9/2017', 'work_done': 8}, {'date': '08/10/2017', 'work_done': 6}, {'date': '08/11/2017', 'work_done': 5}], 'status': 'Active'}]}], 'burndown_img_url': 'https://s3.us-east-2.amazonaws.com/austinbot/burndown.png'}\n"
     ]
    }
   ],
   "source": [
    "print(current_sprint)"
   ]
  },
  {
   "cell_type": "code",
   "execution_count": 13,
   "metadata": {
    "collapsed": true
   },
   "outputs": [],
   "source": [
    "tasks_complete = 0\n",
    "tasks_incomplete = 0"
   ]
  },
  {
   "cell_type": "code",
   "execution_count": 14,
   "metadata": {
    "collapsed": true
   },
   "outputs": [],
   "source": [
    "for story in current_sprint[\"stories\"]:\n",
    "    for task in story[\"task\"]:\n",
    "        if task[\"status\"] == \"Complete\":\n",
    "            tasks_complete += 1\n",
    "        else:\n",
    "            tasks_incomplete += 1"
   ]
  },
  {
   "cell_type": "code",
   "execution_count": 16,
   "metadata": {},
   "outputs": [
    {
     "data": {
      "text/plain": [
       "3"
      ]
     },
     "execution_count": 16,
     "metadata": {},
     "output_type": "execute_result"
    }
   ],
   "source": [
    "tasks_complete"
   ]
  },
  {
   "cell_type": "code",
   "execution_count": 33,
   "metadata": {
    "collapsed": true
   },
   "outputs": [],
   "source": [
    "actual_work_done = dict()\n",
    "for story in current_sprint[\"stories\"]:\n",
    "    for task in story[\"task\"]:\n",
    "        for day in task[\"daily_progress\"]:\n",
    "            try:\n",
    "                actual_work_done[task[\"user_id\"]]+=day[\"work_done\"]\n",
    "            except:\n",
    "                actual_work_done[task[\"user_id\"]]=day[\"work_done\"]"
   ]
  },
  {
   "cell_type": "code",
   "execution_count": 50,
   "metadata": {},
   "outputs": [],
   "source": [
    "users = list(actual_work_done.keys())\n",
    "users = ['User '+ str(i) for i in users]"
   ]
  },
  {
   "cell_type": "code",
   "execution_count": 52,
   "metadata": {},
   "outputs": [],
   "source": [
    "user_hours = list(actual_work_done.values())"
   ]
  },
  {
   "cell_type": "code",
   "execution_count": 55,
   "metadata": {},
   "outputs": [],
   "source": [
    "tasks_expected_hours = dict()\n",
    "for story in current_sprint[\"stories\"]:\n",
    "    try:\n",
    "        tasks_expected_hours[story[\"story_id\"]] += story[\"story_hours\"]\n",
    "    except:\n",
    "        tasks_expected_hours[story[\"story_id\"]] = story[\"story_hours\"]\n",
    "\n",
    "\n",
    "tasks = list(tasks_expected_hours.keys())\n",
    "\n",
    "expected_hours_task = list(tasks_expected_hours.values())"
   ]
  },
  {
   "cell_type": "code",
   "execution_count": 77,
   "metadata": {
    "collapsed": true
   },
   "outputs": [],
   "source": [
    "tasks = [\"Story \"+str(i) for i in range(1,len(task)+1)]"
   ]
  },
  {
   "cell_type": "code",
   "execution_count": 64,
   "metadata": {
    "collapsed": true
   },
   "outputs": [],
   "source": [
    "tasks_actual_hours = dict()\n",
    "for story in current_sprint[\"stories\"]:\n",
    "    for task in story[\"task\"]:\n",
    "        for work in task[\"daily_progress\"]:\n",
    "            try:\n",
    "                tasks_actual_hours[story[\"story_id\"]] += work[\"work_done\"]\n",
    "            except:\n",
    "                tasks_actual_hours[story[\"story_id\"]] = work[\"work_done\"]\n",
    "\n",
    "\n",
    "actual_hours_task = list(tasks_actual_hours.values())"
   ]
  },
  {
   "cell_type": "code",
   "execution_count": 65,
   "metadata": {},
   "outputs": [
    {
     "data": {
      "text/plain": [
       "{'21_1': 218, '21_2': 87, '21_3': 114}"
      ]
     },
     "execution_count": 65,
     "metadata": {},
     "output_type": "execute_result"
    }
   ],
   "source": [
    "tasks_actual_hours"
   ]
  },
  {
   "cell_type": "code",
   "execution_count": 66,
   "metadata": {},
   "outputs": [
    {
     "data": {
      "text/plain": [
       "{'21_1': 240, '21_2': 100, '21_3': 140}"
      ]
     },
     "execution_count": 66,
     "metadata": {},
     "output_type": "execute_result"
    }
   ],
   "source": [
    "tasks_expected_hours"
   ]
  },
  {
   "cell_type": "code",
   "execution_count": 88,
   "metadata": {
    "collapsed": true
   },
   "outputs": [],
   "source": [
    "plotly.tools.set_credentials_file(username='spilani', api_key='XttFdFvm9v44kZTXOcWR')"
   ]
  },
  {
   "cell_type": "code",
   "execution_count": 96,
   "metadata": {},
   "outputs": [
    {
     "name": "stdout",
     "output_type": "stream",
     "text": [
      "High five! You successfully sent some data to your account on plotly. View your plot in your browser at https://plot.ly/~spilani/0 or inside your plot.ly account where it is named 'pie_chart_subplots'\n"
     ]
    },
    {
     "data": {
      "text/html": [
       "<iframe id=\"igraph\" scrolling=\"no\" style=\"border:none;\" seamless=\"seamless\" src=\"https://plot.ly/~spilani/0.embed\" height=\"525px\" width=\"100%\"></iframe>"
      ],
      "text/plain": [
       "<plotly.tools.PlotlyDisplay object>"
      ]
     },
     "execution_count": 96,
     "metadata": {},
     "output_type": "execute_result"
    }
   ],
   "source": [
    "fig = {\n",
    "    'data': [\n",
    "        {\n",
    "            'labels': ['Tasks Complete', 'Tasks Incomplete'],\n",
    "            'values': [tasks_complete, tasks_incomplete],\n",
    "            'type': 'pie',\n",
    "            'name': 'Task Status',\n",
    "            'domain': {'x': [0, .48],\n",
    "                       'y': [0.1, .49]},\n",
    "            'hole': 0.4,\n",
    "            'hoverinfo':'label+percent+name',\n",
    "            'textinfo':'none'\n",
    "        },\n",
    "        {\n",
    "            'labels': users,\n",
    "            'values': user_hours,\n",
    "            'type': 'pie',\n",
    "            'name': 'User Hours',\n",
    "            'domain': {'x': [.52, 1],\n",
    "                       'y': [0.1, .49]},\n",
    "            'hole': 0.4,\n",
    "            'hoverinfo':'label+percent+name',\n",
    "            'textinfo':'none'\n",
    "\n",
    "        },\n",
    "        {\n",
    "            'labels': tasks,\n",
    "            'values': expected_hours_task,\n",
    "            'type': 'pie',\n",
    "            'name': 'Expected Hours',\n",
    "            'domain': {'x': [0, .48],\n",
    "                       'y': [.62, 1]},\n",
    "            'hole': 0.4,\n",
    "        \n",
    "            'hoverinfo':'label+percent+name',\n",
    "            'textinfo':'none'\n",
    "        },\n",
    "        {\n",
    "            'labels': tasks,\n",
    "            'values': actual_hours_task,\n",
    "            'type': 'pie',\n",
    "            'name':'Actual Hours',\n",
    "            'domain': {'x': [.52, 1],\n",
    "                       'y': [.62, 1]},\n",
    "            'hole': 0.4,\n",
    "            'hoverinfo':'label+percent+name',\n",
    "            'textinfo':'none'\n",
    "        }\n",
    "    ],\n",
    "    'layout': \n",
    "    {\n",
    "        'title': 'Sprint Status: '+ query_id,\n",
    "        \"annotations\": [\n",
    "            {\n",
    "                \"font\": {\n",
    "                    \"size\": 20\n",
    "                },\n",
    "                \"showarrow\": False,\n",
    "                \"text\": \"Task\",\n",
    "                \"x\": 0.21,\n",
    "                \"y\": 0.00\n",
    "            },\n",
    "            {\n",
    "                \"font\": {\n",
    "                    \"size\": 20\n",
    "                },\n",
    "                \"showarrow\": False,\n",
    "                \"text\": \"User Hours\",\n",
    "                \"x\": 0.87,\n",
    "                \"y\": 0.00\n",
    "            },\n",
    "            {\n",
    "                \"font\": {\n",
    "                    \"size\": 20\n",
    "                },\n",
    "                \"showarrow\": False,\n",
    "                \"text\": \"Story Expected\",\n",
    "                \"x\": 0.11,\n",
    "                \"y\": 0.58\n",
    "            },\n",
    "            {\n",
    "                \"font\": {\n",
    "                    \"size\": 20\n",
    "                },\n",
    "                \"showarrow\": False,\n",
    "                \"text\": \"Story Actual\",\n",
    "                \"x\": 0.87,\n",
    "                \"y\": 0.58\n",
    "            }\n",
    "        ]\n",
    "    }\n",
    "}\n",
    "\n",
    "py.iplot(fig, filename='pie_chart_subplots')"
   ]
  },
  {
   "cell_type": "code",
   "execution_count": 97,
   "metadata": {
    "collapsed": true
   },
   "outputs": [],
   "source": [
    "py.image.save_as(fig, filename=os.path.join(current_path,'../Plots/sprint_status.png'))"
   ]
  },
  {
   "cell_type": "code",
   "execution_count": 98,
   "metadata": {
    "collapsed": true
   },
   "outputs": [],
   "source": [
    "s3.save_file_to_s3('sprint_status.png')"
   ]
  }
 ],
 "metadata": {
  "kernelspec": {
   "display_name": "Python 3",
   "language": "python",
   "name": "python3"
  },
  "language_info": {
   "codemirror_mode": {
    "name": "ipython",
    "version": 3
   },
   "file_extension": ".py",
   "mimetype": "text/x-python",
   "name": "python",
   "nbconvert_exporter": "python",
   "pygments_lexer": "ipython3",
   "version": "3.6.2"
  }
 },
 "nbformat": 4,
 "nbformat_minor": 2
}
